{
 "cells": [
  {
   "cell_type": "markdown",
   "metadata": {},
   "source": [
    "#### Maheshvaran S\n",
    "#### DS205229119"
   ]
  },
  {
   "cell_type": "markdown",
   "metadata": {},
   "source": [
    "### Lab2. Python Loops"
   ]
  },
  {
   "cell_type": "markdown",
   "metadata": {},
   "source": [
    "#### Question1. Write a program that accepts numbers continuously as long as the number is positive and prints the sum of the numbers read (Use while loop). A sample user interaction will be:\n",
    "- Enter a number: 2\n",
    "- Enter a number: 1\n",
    "- Enter a number: 4\n",
    "- Enter a number: 6\n",
    "- Enter a number: -10\n",
    "- Sum = 13 "
   ]
  },
  {
   "cell_type": "code",
   "execution_count": 2,
   "metadata": {},
   "outputs": [
    {
     "name": "stdout",
     "output_type": "stream",
     "text": [
      "Enter any integer 14\n",
      "Enter next integer 25\n",
      "Enter next integer 29\n",
      "Enter next integer 18\n",
      "Enter next integer -10\n",
      "\n",
      "The sum of all numbers entered is 86\n"
     ]
    }
   ],
   "source": [
    " total = 0\n",
    "i = int(input(\"Enter any integer \"))\n",
    "while i > 0:\n",
    "    total = total + i\n",
    "    i = int(input(\"Enter next integer \"))\n",
    "print(\"\\nThe sum of all numbers entered is\", total)"
   ]
  },
  {
   "cell_type": "markdown",
   "metadata": {},
   "source": [
    "#### Question 2. Write a program to take the values of two integers m and n from the user. Calculate the sum of even number between m and n (including both m and n). Please note that value of m must be less than value of n. If m > n. then you must print a message “Value of m should be less than n” and ask for next input values. Print the values of m, n and sum. (Use while loop). The program should continue until user types ‘q’ to quit the program.\n",
    "#### Sample user interaction:\n",
    "- Enter m: 1\n",
    "- Enter n: 10\n",
    "* Sum of even numbers: 20\n",
    "- Do you want to quit (Type q)? :\n",
    "- Enter m: 2\n",
    "- Enter n: 10\n",
    "* Sum of even numbers: 20\n",
    "- Do you want to quit (Type q)? :\n",
    "- Enter m: 20\n",
    "- Enter n: 10\n",
    "* Value of m should be less than n\n",
    "- Do you want to quit (Type q)? : q "
   ]
  },
  {
   "cell_type": "code",
   "execution_count": 1,
   "metadata": {},
   "outputs": [
    {
     "name": "stdout",
     "output_type": "stream",
     "text": [
      "Enter any value for m= 3\n",
      "Enter any value for n= 2\n",
      "Value of m should be less then n\n",
      "Please re-enter a value for n= 5\n",
      "4\n",
      "\n",
      " Do you want to quit? (type 'q'): q\n"
     ]
    }
   ],
   "source": [
    "while True:\n",
    "    m = int(input(\"Enter any value for m= \"))\n",
    "    n = int(input(\"Enter any value for n= \"))\n",
    "    while m>n:\n",
    "        print(\"Value of m should be less then n\")\n",
    "        n=int(input(\"Please re-enter a value for n= \"))\n",
    "    sum = 0\n",
    "    for i in range (m,n+1):\n",
    "        if i%2 ==0:\n",
    "            sum = sum + i\n",
    "    print(sum)\n",
    "    reply=str(input(\"\\n Do you want to quit? (type 'q'): \"))\n",
    "    if reply =='q':\n",
    "        break;"
   ]
  },
  {
   "cell_type": "markdown",
   "metadata": {},
   "source": [
    "#### Question3. Write a program to accept n and display its multiplication table. Value of n must be provided by the user. (Example: n * 1, n * 2,....,n*10) (Use for loop)"
   ]
  },
  {
   "cell_type": "code",
   "execution_count": 2,
   "metadata": {
    "scrolled": true
   },
   "outputs": [
    {
     "name": "stdout",
     "output_type": "stream",
     "text": [
      "Enter the number: 13\n",
      "Multiplication Table of 13\n",
      "13 X 1 = 13\n",
      "13 X 2 = 26\n",
      "13 X 3 = 39\n",
      "13 X 4 = 52\n",
      "13 X 5 = 65\n",
      "13 X 6 = 78\n",
      "13 X 7 = 91\n",
      "13 X 8 = 104\n",
      "13 X 9 = 117\n",
      "13 X 10 = 130\n"
     ]
    }
   ],
   "source": [
    "num = int(input(\"Enter the number: \"))\n",
    "print(\"Multiplication Table of\", num)\n",
    "for i in range(1, 11):\n",
    "    print(num,\"X\",i,\"=\",num * i)"
   ]
  },
  {
   "cell_type": "markdown",
   "metadata": {},
   "source": [
    "#### Question4. Write a program that receives an integer and prints the sum of its digits. For example, an input 125 will print output 1+2+5=8.\n",
    "- Try out with the following test cases\n",
    "-  125\n",
    "-  12\n",
    "-   2\n",
    "- -15\n"
   ]
  },
  {
   "cell_type": "code",
   "execution_count": 3,
   "metadata": {},
   "outputs": [
    {
     "name": "stdout",
     "output_type": "stream",
     "text": [
      "Enter a integer: 598\n",
      "Sum of the integer is: 22\n"
     ]
    }
   ],
   "source": [
    " num = int(input(\"Enter a integer: \"))\n",
    "total = 0\n",
    "while num > 0:\n",
    "        digit = num % 10\n",
    "        total = total + digit\n",
    "        num = num // 10\n",
    "print(\"Sum of the integer is:\", total)"
   ]
  },
  {
   "cell_type": "markdown",
   "metadata": {},
   "source": [
    "#### Question5. Develop an application in Python that repeatedly reads numbers until the user enters done. Once done is entered, print out the total, count, and average of the numbers. If the user enters anything other than a number, detect their mistake using try and except and print an error message and skip to the next number. "
   ]
  },
  {
   "cell_type": "code",
   "execution_count": 4,
   "metadata": {},
   "outputs": [
    {
     "name": "stdout",
     "output_type": "stream",
     "text": [
      "Enter a number: 6\n",
      "Enter a number: 7\n",
      "Enter a number: 8\n",
      "Enter a number: 9\n",
      "Enter a number: one\n",
      "Invailed Input\n",
      "Enter a number: 5\n",
      "Enter a number: done\n",
      "\n",
      "done\n",
      "\n",
      "total 35\n",
      "\n",
      "num 5\n",
      "\n",
      "average 7.0\n"
     ]
    }
   ],
   "source": [
    "num = 0\n",
    "tot = 0\n",
    "while True:\n",
    "    number = input(\"Enter a number: \")\n",
    "    if number == 'done':\n",
    "        break\n",
    "    try :\n",
    "        num1 = int(number)\n",
    "    except:\n",
    "        print('Invailed Input')\n",
    "        continue\n",
    "    num = num+1\n",
    "    tot = tot + num1\n",
    "    avg = tot/num\n",
    "print ('\\ndone')\n",
    "print ('\\ntotal',tot)\n",
    "print('\\nnum',num)\n",
    "print('\\naverage',avg)"
   ]
  }
 ],
 "metadata": {
  "kernelspec": {
   "display_name": "Python 3",
   "language": "python",
   "name": "python3"
  },
  "language_info": {
   "codemirror_mode": {
    "name": "ipython",
    "version": 3
   },
   "file_extension": ".py",
   "mimetype": "text/x-python",
   "name": "python",
   "nbconvert_exporter": "python",
   "pygments_lexer": "ipython3",
   "version": "3.8.5"
  }
 },
 "nbformat": 4,
 "nbformat_minor": 4
}
