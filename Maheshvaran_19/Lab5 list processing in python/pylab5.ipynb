{
 "cells": [
  {
   "cell_type": "markdown",
   "metadata": {},
   "source": [
    "#### Maheshvaran S\n",
    "#### DS205229119"
   ]
  },
  {
   "cell_type": "markdown",
   "metadata": {},
   "source": [
    "### Lab5. List Processing in Python"
   ]
  },
  {
   "cell_type": "markdown",
   "metadata": {},
   "source": [
    "#### Question1:Write a function find_average(student) that takes student tuples as input and print student rollno, name, marks and average marks as output.\n",
    "\n",
    "- Test Cases:\n",
    "      1.Stud1=(1,\"rex\",60,85,70)\n",
    "      find_average(stud1)\n",
    "      \n",
    "#### Modify the above function find_average(student) so that it processes a tuple of tuples.\n",
    "\n",
    "      2.Stud2=(2,\"rex\",(80,75,90))\n",
    "      find_average(stud2)"
   ]
  },
  {
   "cell_type": "code",
   "execution_count": 3,
   "metadata": {},
   "outputs": [],
   "source": [
    "def find_average(student):\n",
    "    roll,name,marks = student\n",
    "    total = 0\n",
    "    for mark in marks:\n",
    "        total += mark\n",
    "    avg = total / len(marks)\n",
    "    print(\"Roll No:\",roll,\"Name:\",name,\"Average:\",avg)"
   ]
  },
  {
   "cell_type": "code",
   "execution_count": 4,
   "metadata": {},
   "outputs": [],
   "source": [
    "stud1 = (1,\"rex\",(60,85,70))"
   ]
  },
  {
   "cell_type": "code",
   "execution_count": 5,
   "metadata": {},
   "outputs": [
    {
     "name": "stdout",
     "output_type": "stream",
     "text": [
      "Roll No: 1 Name: rex Average: 71.66666666666667\n"
     ]
    }
   ],
   "source": [
    "find_average(stud1)"
   ]
  },
  {
   "cell_type": "code",
   "execution_count": 6,
   "metadata": {},
   "outputs": [],
   "source": [
    "stud2 = (2,\"Rex\",(80,75,90))"
   ]
  },
  {
   "cell_type": "code",
   "execution_count": 7,
   "metadata": {},
   "outputs": [
    {
     "name": "stdout",
     "output_type": "stream",
     "text": [
      "Roll No: 2 Name: Rex Average: 81.66666666666667\n"
     ]
    }
   ],
   "source": [
    "find_average(stud2)"
   ]
  },
  {
   "cell_type": "markdown",
   "metadata": {},
   "source": [
    "#### Question2:Write a weight management program that prompts that prompts the user to enter in 7 days of their body weight values as float numbers. Store them in list. Then print first day weight, last day weight, 4th day weight, highest weight, lowest weight and average weight.\n",
    "#### Finally, print if average weight < lowest weight, then print \"Your weight management is excellent\". Otherwise print \"Your weight management is not good. Please take care of your diet\"."
   ]
  },
  {
   "cell_type": "code",
   "execution_count": 5,
   "metadata": {},
   "outputs": [
    {
     "name": "stdout",
     "output_type": "stream",
     "text": [
      "Enter your weight:70\n",
      "Enter your weight:71\n",
      "Enter your weight:72\n",
      "Enter your weight:73\n",
      "Enter your weight:74\n",
      "Enter your weight:75\n",
      "Enter your weight:76\n",
      "\n",
      "\n",
      "First day weight 70.0\n",
      "\n",
      "Last day weight 76.0\n",
      "\n",
      "Highest weight is 76.0\n",
      "\n",
      "Lowest weight is 70.0\n",
      "\n",
      "Average of weight is 73\n",
      "\n",
      "Your weight management is not good. Please take care of your diet\n"
     ]
    }
   ],
   "source": [
    "list=[]\n",
    "for i in range(7):\n",
    "    c=float(input(\"Enter your weight:\"))\n",
    "    list.append(c)\n",
    "print(\"\\n\\nFirst day weight\",list[0])\n",
    "print(\"\\nLast day weight\",list[-1])\n",
    "print(\"\\nHighest weight is\",max(list))\n",
    "print(\"\\nLowest weight is\",min(list))\n",
    "print(\"\\nAverage of weight is\",round(sum(list)/len(list)))\n",
    "Firstday=list[0]\n",
    "Lastday=list[-1]\n",
    "avg=round(sum(list)/len(list))\n",
    "low_weight=min(list)\n",
    "if(avg<low_weight):\n",
    "    print(\"\\nYour weight management is excellent\")\n",
    "else:\n",
    "    print(\"\\nYour weight management is not good. Please take care of your diet\")"
   ]
  },
  {
   "cell_type": "markdown",
   "metadata": {},
   "source": [
    "#### QUESTION 3: Write a function lastN(lst,n) that takes a list of integers and n and returns n largest numbers.\n",
    "\n",
    "How many numbers you want to enter?: 6\n",
    "Enter a number: 12\n",
    "Enter a number: 32\n",
    "Enter a number:\n",
    "Enter a number:\n",
    "Enter a number:\n",
    "Enter a number:\n",
    "\n",
    "How many largest numbers you want to find?: 3\n",
    "Largest numbers are: 52, 45, 32"
   ]
  },
  {
   "cell_type": "code",
   "execution_count": 13,
   "metadata": {
    "scrolled": true
   },
   "outputs": [
    {
     "name": "stdout",
     "output_type": "stream",
     "text": [
      "How many number want to enter?: 6\n",
      "\n",
      "Enter a number: 12\n",
      "\n",
      "Enter a number: 34\n",
      "\n",
      "Enter a number: 18\n",
      "\n",
      "Enter a number: 24\n",
      "\n",
      "Enter a number: 2\n",
      "\n",
      "Enter a number: 29\n",
      "\n",
      "How many largest numbers you want to find?: 3\n",
      "\n",
      "largest numbers: [34, 29, 24]\n"
     ]
    }
   ],
   "source": [
    "def lastN(lst, n):\n",
    "    final_list =[]\n",
    "    \n",
    "    for i in range(n):\n",
    "        max1 = 0\n",
    "        \n",
    "        for j in lst:\n",
    "            if j> max1:\n",
    "                max1 = j;\n",
    "                \n",
    "        lst.remove(max1);\n",
    "        final_list.append(max1)\n",
    "    print(\"\\nlargest numbers:\",final_list)\n",
    "\n",
    "b=int(input(\"How many number want to enter?: \"))\n",
    "lst=[]\n",
    "for i in range(b):\n",
    "    c=int(input(\"\\nEnter a number: \"))\n",
    "    lst.append(c)\n",
    "\n",
    "n=int(input(\"\\nHow many largest numbers you want to find?: \"))\n",
    "lastN(lst,n)        "
   ]
  },
  {
   "cell_type": "markdown",
   "metadata": {},
   "source": [
    "#### QUESTION 4: Given a list of strings, return a list with the strings in sorted order, except group all the strings that begin with \"X\" first. Hint: this can be done by making 2 lists and sorting each of them before combining them.\n",
    "\n",
    "Test Cases:\n",
    "- 1.Input: ['min','xyz','apple','xanadu','aardvark']\n",
    "    Output:['xanadu','xyz','aardvark','apple','mix']\n",
    "- 2.Input: ['ccc','bbb','aaa','xcc','xaa']\n",
    "    Output:['xaa','xcc','aaa','bbb','ccc']\n",
    "- 3.Input: ['bbb','ccc','axx','xzz','xaa']\n",
    "    Output: ['xaa','xzz','axx','bbb','ccc']"
   ]
  },
  {
   "cell_type": "code",
   "execution_count": 14,
   "metadata": {},
   "outputs": [],
   "source": [
    "def front_x(words):\n",
    "    xlist = []\n",
    "    alist = []\n",
    "    \n",
    "    for word in words:\n",
    "        if word.startswith(\"x\"):\n",
    "            xlist.append(word)\n",
    "        else:\n",
    "            alist.append(word)\n",
    "    return sorted(xlist) + sorted(alist)"
   ]
  },
  {
   "cell_type": "code",
   "execution_count": 15,
   "metadata": {},
   "outputs": [
    {
     "data": {
      "text/plain": [
       "['xanadu', 'xyz', 'aardvark', 'apple', 'min']"
      ]
     },
     "execution_count": 15,
     "metadata": {},
     "output_type": "execute_result"
    }
   ],
   "source": [
    "words=['min','xyz','apple','xanadu','aardvark']\n",
    "front_x(words)"
   ]
  },
  {
   "cell_type": "code",
   "execution_count": 16,
   "metadata": {},
   "outputs": [
    {
     "data": {
      "text/plain": [
       "['xaa', 'xcc', 'aaa', 'bbb', 'ccc']"
      ]
     },
     "execution_count": 16,
     "metadata": {},
     "output_type": "execute_result"
    }
   ],
   "source": [
    "words=['ccc','bbb','aaa','xcc','xaa']\n",
    "front_x(words)"
   ]
  },
  {
   "cell_type": "code",
   "execution_count": 17,
   "metadata": {},
   "outputs": [
    {
     "data": {
      "text/plain": [
       "['xaa', 'xzz', 'axx', 'bbb', 'ccc']"
      ]
     },
     "execution_count": 17,
     "metadata": {},
     "output_type": "execute_result"
    }
   ],
   "source": [
    "words=['bbb','ccc','axx','xzz','xaa']\n",
    "front_x(words)"
   ]
  },
  {
   "cell_type": "markdown",
   "metadata": {},
   "source": [
    "#### QUESTION 5: Develop a function sort_last(). Given a list of non-empty tuples, return a list sorted in increasing order by the last element in each tuple. Hint: use a custom key= function to extract the last element from each tuple.\n",
    "\n",
    "Test Cases:\n",
    "- 1. Input:[(1,7),(1,3),(3,4,5),(2,2)]\n",
    "     Output:[(2,2),(1,3),(3,4,5),(1,7)]\n",
    "- 2. Input:[(1,3),(3,2),(2,1)]\n",
    "     Output:[(2,1),(3,2),(1,3)]\n",
    "- 3. Input:[(2,3),(1,2),(3,1)]\n",
    "     Output:[(3,1),(1,2),(2,3)]"
   ]
  },
  {
   "cell_type": "code",
   "execution_count": 18,
   "metadata": {},
   "outputs": [
    {
     "name": "stdout",
     "output_type": "stream",
     "text": [
      "Test Case:1 \n",
      "\tInput:[(1,7),(1,3),(3,4,5),(2,2)] \n",
      "\tOutput: [(2, 2), (1, 3), (3, 4, 5), (1, 7)]\n",
      "Test Case:2 \n",
      "\tInput:[(1,3),(3,2),(2,1)] \n",
      "\tOutput: [(2, 1), (3, 2), (1, 3)]\n",
      "Test Case:3 \n",
      "\tInput:[(2,3),(1,2),(3,1)] \n",
      "\tOutput: [(3, 1), (1, 2), (2, 3)]\n"
     ]
    }
   ],
   "source": [
    "def last(n): return n[-1]\n",
    "\n",
    "def sort_list_last(tuples):\n",
    "  return sorted(tuples, key=last)\n",
    "\n",
    "print(\"Test Case:1 \\n\\tInput:[(1,7),(1,3),(3,4,5),(2,2)] \\n\\tOutput:\",sort_list_last([(1,7),(1,3),(3,4,5),(2,2)]))\n",
    "\n",
    "print(\"Test Case:2 \\n\\tInput:[(1,3),(3,2),(2,1)] \\n\\tOutput:\",sort_list_last([(1,3),(3,2),(2,1)]))\n",
    "\n",
    "print(\"Test Case:3 \\n\\tInput:[(2,3),(1,2),(3,1)] \\n\\tOutput:\",sort_list_last([(2,3),(1,2),(3,1)]))"
   ]
  },
  {
   "cell_type": "markdown",
   "metadata": {},
   "source": [
    "#### Question6. Other String Functions\n",
    "- a) Define a function first() that receives a tuple and returns its first element\n",
    "- b) Define a function sort_first() that receives a list of tuples and returns the sorted\n",
    "- c) Print lists in sorted order\n",
    "- d) Define a function middle() that receives a a tuple and returns its middle element\n",
    "- e) Define a functino sort_middle() that receives a list of tuples and returns it sorted using the key middle\n",
    "- f) Print the list [(1,2,3), (2,1,4), (10,7,15), (20,4,50), (30, 6, 40)] in sorted order. Output should be: [(2, 1, 4), (1, 2, 3), (20, 4, 50), (30, 6, 40), (10, 7, 15)] "
   ]
  },
  {
   "cell_type": "code",
   "execution_count": 22,
   "metadata": {},
   "outputs": [],
   "source": [
    "def first(num):\n",
    "    for j in num:\n",
    "        a,b,c=j\n",
    "        print(a)\n",
    "        \n",
    "def sort_first(num):\n",
    "    new_list=sorted(num)\n",
    "    return new_list\n",
    "\n",
    "def lists(num):\n",
    "    return sorted(num, key=None, reverse=0)\n",
    "    \n",
    "\n",
    "def middle(num):\n",
    "    for j in num:\n",
    "        a,b,c=j\n",
    "        print(b)\n",
    "\n",
    "def sort_middle(num):\n",
    "    return sorted(num,key = lambda mid:mid[1])\n",
    "num=[(1,2,3),(2,1,4),(10,7,15),(20,4,50),(30,6,40)]"
   ]
  },
  {
   "cell_type": "code",
   "execution_count": 23,
   "metadata": {},
   "outputs": [
    {
     "name": "stdout",
     "output_type": "stream",
     "text": [
      "1\n",
      "2\n",
      "10\n",
      "20\n",
      "30\n"
     ]
    }
   ],
   "source": [
    "first(num)"
   ]
  },
  {
   "cell_type": "code",
   "execution_count": 25,
   "metadata": {},
   "outputs": [
    {
     "data": {
      "text/plain": [
       "[(1, 2, 3), (2, 1, 4), (10, 7, 15), (20, 4, 50), (30, 6, 40)]"
      ]
     },
     "execution_count": 25,
     "metadata": {},
     "output_type": "execute_result"
    }
   ],
   "source": [
    "sort_first(num)"
   ]
  },
  {
   "cell_type": "code",
   "execution_count": 21,
   "metadata": {},
   "outputs": [
    {
     "data": {
      "text/plain": [
       "[(2, 1, 4), (1, 2, 3), (20, 4, 50), (30, 6, 40), (10, 7, 15)]"
      ]
     },
     "execution_count": 21,
     "metadata": {},
     "output_type": "execute_result"
    }
   ],
   "source": [
    "sort_middle(num)"
   ]
  },
  {
   "cell_type": "code",
   "execution_count": 24,
   "metadata": {},
   "outputs": [
    {
     "name": "stdout",
     "output_type": "stream",
     "text": [
      "2\n",
      "1\n",
      "7\n",
      "4\n",
      "6\n"
     ]
    }
   ],
   "source": [
    "middle(num)"
   ]
  },
  {
   "cell_type": "markdown",
   "metadata": {},
   "source": [
    "#### QUESTION7: Develop a function remove_adjacent(). Given a list of numbers, return a list where all adjacent same elements have been reduced to a single element. You may create a new list or modify the passed in list. \n",
    "Test Cases: \n",
    "- 1.Input:[1,2,2,3] and Output:[1,2,3] \n",
    "- 2.Input:[2,2,3,3,3,] and Output:[2,3] \n",
    "- 3.Input:[].Output:[]. \n",
    "- 4.Input:[2,5,5,6,6,7] and Output:[2,5,6,7] \n",
    "- 5.Input:[6,7,7,8,9,9] and Output:[6,7,8,9]"
   ]
  },
  {
   "cell_type": "code",
   "execution_count": 1,
   "metadata": {},
   "outputs": [],
   "source": [
    "def remove_adjacent(lst):\n",
    "    a = []\n",
    "    for item in lst:\n",
    "        if len(a):\n",
    "            if a[-1] != item:\n",
    "                a.append(item)\n",
    "        else:\n",
    "            a.append(item)\n",
    "    return a"
   ]
  },
  {
   "cell_type": "code",
   "execution_count": 2,
   "metadata": {},
   "outputs": [
    {
     "data": {
      "text/plain": [
       "[1, 2, 3]"
      ]
     },
     "execution_count": 2,
     "metadata": {},
     "output_type": "execute_result"
    }
   ],
   "source": [
    "remove_adjacent([1,2,2,3])"
   ]
  },
  {
   "cell_type": "code",
   "execution_count": 3,
   "metadata": {},
   "outputs": [
    {
     "data": {
      "text/plain": [
       "[2, 3]"
      ]
     },
     "execution_count": 3,
     "metadata": {},
     "output_type": "execute_result"
    }
   ],
   "source": [
    "remove_adjacent([2,2,3,3,3])"
   ]
  },
  {
   "cell_type": "code",
   "execution_count": 4,
   "metadata": {},
   "outputs": [
    {
     "data": {
      "text/plain": [
       "[2, 5, 6, 7]"
      ]
     },
     "execution_count": 4,
     "metadata": {},
     "output_type": "execute_result"
    }
   ],
   "source": [
    "remove_adjacent([2,5,5,6,6,7])"
   ]
  },
  {
   "cell_type": "code",
   "execution_count": 5,
   "metadata": {},
   "outputs": [
    {
     "data": {
      "text/plain": [
       "[6, 7, 8, 9]"
      ]
     },
     "execution_count": 5,
     "metadata": {},
     "output_type": "execute_result"
    }
   ],
   "source": [
    "remove_adjacent([6,7,7,8,9,9])"
   ]
  },
  {
   "cell_type": "code",
   "execution_count": 6,
   "metadata": {},
   "outputs": [
    {
     "data": {
      "text/plain": [
       "[]"
      ]
     },
     "execution_count": 6,
     "metadata": {},
     "output_type": "execute_result"
    }
   ],
   "source": [
    "remove_adjacent([])"
   ]
  },
  {
   "cell_type": "markdown",
   "metadata": {},
   "source": [
    "#### QUESTION8: Write a function verbing(). Given a string, if its length is at least 3, add'ing' to its end. Unless it already ends in 'ing', in which case add 'ly' instead. If the string length is less than 3, leave it unchanged. Return the resulting string. So 'hail' yields: hailing, 'swimming' yields: swimmingly; 'do' yields:do."
   ]
  },
  {
   "cell_type": "code",
   "execution_count": 7,
   "metadata": {},
   "outputs": [],
   "source": [
    "def verbing(str):\n",
    "    length = len(str)\n",
    "    if length > 2:\n",
    "        if str[-3:] == 'ing':\n",
    "            str += 'ly'\n",
    "        else:\n",
    "            str += 'ing'\n",
    "    return str"
   ]
  },
  {
   "cell_type": "code",
   "execution_count": 8,
   "metadata": {},
   "outputs": [
    {
     "data": {
      "text/plain": [
       "'hailing'"
      ]
     },
     "execution_count": 8,
     "metadata": {},
     "output_type": "execute_result"
    }
   ],
   "source": [
    "verbing(\"hail\")"
   ]
  },
  {
   "cell_type": "code",
   "execution_count": 9,
   "metadata": {},
   "outputs": [
    {
     "data": {
      "text/plain": [
       "'swimmingly'"
      ]
     },
     "execution_count": 9,
     "metadata": {},
     "output_type": "execute_result"
    }
   ],
   "source": [
    "verbing(\"swimming\")"
   ]
  },
  {
   "cell_type": "code",
   "execution_count": 10,
   "metadata": {},
   "outputs": [
    {
     "data": {
      "text/plain": [
       "'do'"
      ]
     },
     "execution_count": 10,
     "metadata": {},
     "output_type": "execute_result"
    }
   ],
   "source": [
    "verbing(\"do\")"
   ]
  },
  {
   "cell_type": "markdown",
   "metadata": {},
   "source": [
    "#### QUESTION9: Develop a function not_bad(). Given a string, find the first appearance of the substring 'not' and 'bad'. If the 'bad' follows the 'not', replace the whole 'not'..'bad' substring with 'good'. Return the resulting string. So 'This dinner is not that bad! 'Yields: This dinner is good!"
   ]
  },
  {
   "cell_type": "code",
   "execution_count": 11,
   "metadata": {},
   "outputs": [],
   "source": [
    "def not_bad(s):\n",
    "    snot = s.find('not')\n",
    "    sbad = s.find('bad')\n",
    "    if sbad>snot:\n",
    "        s=s.replace(s[snot:(sbad+3)], 'good')\n",
    "    return s"
   ]
  },
  {
   "cell_type": "code",
   "execution_count": 12,
   "metadata": {},
   "outputs": [
    {
     "data": {
      "text/plain": [
       "'This dinner is good!'"
      ]
     },
     "execution_count": 12,
     "metadata": {},
     "output_type": "execute_result"
    }
   ],
   "source": [
    "not_bad(\"This dinner is not really that bad!\")"
   ]
  }
 ],
 "metadata": {
  "kernelspec": {
   "display_name": "Python 3",
   "language": "python",
   "name": "python3"
  },
  "language_info": {
   "codemirror_mode": {
    "name": "ipython",
    "version": 3
   },
   "file_extension": ".py",
   "mimetype": "text/x-python",
   "name": "python",
   "nbconvert_exporter": "python",
   "pygments_lexer": "ipython3",
   "version": "3.8.5"
  }
 },
 "nbformat": 4,
 "nbformat_minor": 4
}
