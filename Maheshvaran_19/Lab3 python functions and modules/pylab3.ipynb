{
 "cells": [
  {
   "cell_type": "markdown",
   "metadata": {},
   "source": [
    "#### Maheshvaran S\n",
    "#### DS205229119"
   ]
  },
  {
   "cell_type": "markdown",
   "metadata": {},
   "source": [
    "### Lab3. Python Functions and Modules"
   ]
  },
  {
   "cell_type": "markdown",
   "metadata": {},
   "source": [
    "#### Question 1: create a function prime() that receives an integer and returns whether n is prime or not. Print all prime numbers from 1 to 100 by calling prime() function."
   ]
  },
  {
   "cell_type": "code",
   "execution_count": 34,
   "metadata": {},
   "outputs": [
    {
     "name": "stdout",
     "output_type": "stream",
     "text": [
      "Enter the number: 1\n",
      "1 is prime number\n",
      "\n",
      "Enter the number: 2\n",
      "2 is prime number\n",
      "\n",
      "Enter the number: 3\n",
      "3 is prime number\n",
      "\n",
      "Enter the number: 4\n",
      "4 is not prime number\n",
      "\n",
      "Enter the number: 5\n",
      "5 is prime number\n",
      "\n",
      "Enter the number: 6\n",
      "6 is not prime number\n",
      "\n",
      "Enter the number: 0\n",
      "\n",
      "Loop ends here... \n",
      "\n",
      "\n",
      "\n",
      "Here we are printing all prime numbers from 1 to 100 using prime function: \n",
      "\n",
      "\n",
      "Prime 2\n",
      "Prime 3\n",
      "Prime 5\n",
      "Prime 7\n",
      "Prime 11\n",
      "Prime 13\n",
      "Prime 17\n",
      "Prime 19\n",
      "Prime 23\n",
      "Prime 29\n",
      "Prime 31\n",
      "Prime 37\n",
      "Prime 41\n",
      "Prime 43\n",
      "Prime 47\n",
      "Prime 53\n",
      "Prime 59\n",
      "Prime 61\n",
      "Prime 67\n",
      "Prime 71\n",
      "Prime 73\n",
      "Prime 79\n",
      "Prime 83\n",
      "Prime 89\n",
      "Prime 97\n"
     ]
    }
   ],
   "source": [
    "def prime(num):\n",
    "    for i in range(2,num):\n",
    "        if num%i == 0:\n",
    "            return 0\n",
    "    else:\n",
    "        return num\n",
    "\n",
    "while True:\n",
    "    n=int(input(\"Enter the number: \"))\n",
    "    if n==0:\n",
    "        print(\"\\nLoop ends here... \\n\\n\\n\\nHere we are printing all prime numbers from 1 to 100 using prime function: \\n\\n\")\n",
    "        break\n",
    "    a=prime(n)\n",
    "    if a!= 0:\n",
    "        print(n,\"is prime number\\n\")\n",
    "    else:\n",
    "        print(n,\"is not prime number\\n\")\n",
    "\n",
    "def prime(n):\n",
    "    status = True\n",
    "    if n < 2:\n",
    "        status = False\n",
    "    else:\n",
    "        for i in range(2,n):\n",
    "            if n % i == 0:\n",
    "                status = False\n",
    "    return status\n",
    "\n",
    "for n in range(1,100):\n",
    "    if prime(n):\n",
    "        if n==100:\n",
    "            print ('Prime',n)\n",
    "        else:\n",
    "            print ('Prime',n)"
   ]
  },
  {
   "cell_type": "markdown",
   "metadata": {},
   "source": [
    "Explaination 1: \n",
    "    Here we need to print the integer from the user wheather the entered number is prime number or not to do that we are creating a function using (def) and giving certian conditions in (while, if, else) which to validate specific condition in each block. Then we call prime function to print prime numbers from 1 to 100..."
   ]
  },
  {
   "cell_type": "markdown",
   "metadata": {},
   "source": [
    "#### Question 2: Develop a simple arithmetic calculator for 4 operations. The program should continue calculation until user types 'q' to quit. A sample user interaction can be:\n",
    "Enter  operator(q to quit): +\n",
    "Enter value 1: 10\n",
    "Enter value 2: 20\n",
    "Result = 30\n",
    "\n",
    "#### Create 4 functions add(), subtract(), multiply(), and divide() that receives two values and returns the result of the operation. Now, perform the following operations by calling the corresponding functions. Validate your outputs.\n",
    "1. 10+20\n",
    "2. 20-5\n",
    "3. 8*5\n",
    "4. 50/3"
   ]
  },
  {
   "cell_type": "code",
   "execution_count": 35,
   "metadata": {},
   "outputs": [
    {
     "name": "stdout",
     "output_type": "stream",
     "text": [
      "Enter the opertor: \n",
      "+\n",
      "\n",
      "Enter the value of 1: 10\n",
      "Enter the value of 2: 20\n",
      "Result is  30 \n",
      "\n",
      "Enter the opertor: \n",
      "-\n",
      "\n",
      "Enter the value of 1: 20\n",
      "Enter the value of 2: 5\n",
      "Result is  15 \n",
      "\n",
      "Enter the opertor: \n",
      "*\n",
      "\n",
      "Enter the value of 1: 8\n",
      "Enter the value of 2: 5\n",
      "Result is  40 \n",
      "\n",
      "Enter the opertor: \n",
      "/\n",
      "\n",
      "Enter the value of 1: 50\n",
      "Enter the value of 2: 3\n",
      "Result is  16.666666666666668 \n",
      "\n",
      "Enter the opertor: \n",
      "q\n",
      "Quit\n"
     ]
    }
   ],
   "source": [
    "def add(a,b):\n",
    "    return a+b\n",
    "def sub(a,b):\n",
    "    return a-b\n",
    "def mul(a,b):\n",
    "    return a*b\n",
    "def div(a,b):\n",
    "    if b==0:\n",
    "        print(\"division is not possible \")\n",
    "    else:\n",
    "        return a/b\n",
    "\n",
    "while True:\n",
    "    print(\"Enter the opertor: \")\n",
    "    operator=input()\n",
    "    if (operator=='q'):\n",
    "        break\n",
    "    a=int(input(\"\\nEnter the value of 1: \"))\n",
    "    b=int(input(\"Enter the value of 2: \"))\n",
    "\n",
    "    if (operator=='+'):\n",
    "        r=add(a,b)\n",
    "    elif (operator=='-'):\n",
    "        r=sub(a,b)\n",
    "    elif (operator =='*'):\n",
    "        r=mul(a,b)\n",
    "    elif (operator=='/'):\n",
    "        r=div(a,b)\n",
    "    print(\"Result is \",r,'\\n')\n",
    "print(\"Quit\")"
   ]
  },
  {
   "cell_type": "markdown",
   "metadata": {},
   "source": [
    "Explaination 2: \n",
    "Here we are creating 4 seperate functions using\n",
    "1.add\n",
    "2.sub\n",
    "3.mul\n",
    "4.div\n",
    "I need to get input from the user to 'enter the operator', 'Enter the value 1:', 'Enter the value 2:' then using if and else operation it perform a validate add, sub, mul, div while performing division if the input is 0 then it print division is not possible else it perform next step. Then finally when the user enter q the program is to quite.  "
   ]
  },
  {
   "cell_type": "markdown",
   "metadata": {},
   "source": [
    "#### Question3.Create a function factorial() that takes an integer and returns its factorial value.\n",
    "- You can create as a non-recursive version of factorial.\n",
    "- Also, check factorial of negative number does not exist.\n",
    "- Factorial of 0 is 1.\n",
    "- Save this Python file as factorial_definition.py.\n",
    "\n",
    "Now, open another file and can import factorial_definition.py as follows:\n",
    "- import factorial_definition\n",
    "- You can call function function as factorial_definition.factorial().\n",
    "\n",
    "Now, print the following factorial values:\n",
    "- 1. factorial_definition.factorial(3)\n",
    "- 2. factorial_definition.factorial(5)\n",
    "- 3. factorial_definition.factorial(10)"
   ]
  },
  {
   "cell_type": "code",
   "execution_count": 1,
   "metadata": {},
   "outputs": [],
   "source": [
    "def factorial(n):\n",
    "   result = 1;\n",
    "   if(n < 0):\n",
    "       print(\"The factorial does not exist for negative numbers\")\n",
    "   elif(n==0):\n",
    "       print(\"The factorial of 0 is 1\")\n",
    "   elif(n==1):\n",
    "       return 1\n",
    "   else:\n",
    "       for i in range(2, n + 1):\n",
    "           result = result * i;\n",
    "       return result;"
   ]
  },
  {
   "cell_type": "markdown",
   "metadata": {},
   "source": [
    "Create a non recursive function factorial() that takes an integer and returns its factorial value. Save the python file as .py and import the module and use the functions. "
   ]
  },
  {
   "cell_type": "code",
   "execution_count": 2,
   "metadata": {},
   "outputs": [
    {
     "data": {
      "text/plain": [
       "6"
      ]
     },
     "execution_count": 2,
     "metadata": {},
     "output_type": "execute_result"
    }
   ],
   "source": [
    "import factorial_definition\n",
    "\n",
    "factorial_definition.factorial(3)"
   ]
  },
  {
   "cell_type": "code",
   "execution_count": 3,
   "metadata": {},
   "outputs": [
    {
     "data": {
      "text/plain": [
       "120"
      ]
     },
     "execution_count": 3,
     "metadata": {},
     "output_type": "execute_result"
    }
   ],
   "source": [
    "factorial_definition.factorial(5)"
   ]
  },
  {
   "cell_type": "code",
   "execution_count": 4,
   "metadata": {},
   "outputs": [
    {
     "data": {
      "text/plain": [
       "3628800"
      ]
     },
     "execution_count": 4,
     "metadata": {},
     "output_type": "execute_result"
    }
   ],
   "source": [
    "factorial_definition.factorial(10)"
   ]
  }
 ],
 "metadata": {
  "kernelspec": {
   "display_name": "Python 3",
   "language": "python",
   "name": "python3"
  },
  "language_info": {
   "codemirror_mode": {
    "name": "ipython",
    "version": 3
   },
   "file_extension": ".py",
   "mimetype": "text/x-python",
   "name": "python",
   "nbconvert_exporter": "python",
   "pygments_lexer": "ipython3",
   "version": "3.8.5"
  }
 },
 "nbformat": 4,
 "nbformat_minor": 4
}
