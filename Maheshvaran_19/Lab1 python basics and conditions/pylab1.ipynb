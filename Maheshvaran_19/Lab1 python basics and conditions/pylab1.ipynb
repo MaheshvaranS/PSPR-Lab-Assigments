{
 "cells": [
  {
   "cell_type": "markdown",
   "metadata": {},
   "source": [
    "#### Maheshvaran S\n",
    "#### DS205229119"
   ]
  },
  {
   "cell_type": "markdown",
   "metadata": {},
   "source": [
    "### Lab1. Python Basics and Conditions"
   ]
  },
  {
   "cell_type": "markdown",
   "metadata": {},
   "source": [
    "#### Question1. Write a program in Python to input length and breadth of a rectangle and print the area and perimeter of it.\n",
    "- Test you code with atleast 2 test cases "
   ]
  },
  {
   "cell_type": "markdown",
   "metadata": {},
   "source": [
    "Here we need to find length and breadth of rectangle and area of perimeter of rectangle so i declare variable 'l' and 'b' l=length and b=breadth and i get the input from the user using input() function which is built in. Then i create a variable called 'area' to store the product of length and breadth. Then repeat the same as we done for area so here create 'perimeter' which is equal to 2*(l+b) then print both seperately by using print(\" \",area), and print(\" \",perimeter)"
   ]
  },
  {
   "cell_type": "code",
   "execution_count": 5,
   "metadata": {},
   "outputs": [
    {
     "name": "stdout",
     "output_type": "stream",
     "text": [
      "Length : 4\n",
      "Breadth : 6\n",
      "Area of Rectangle :  24\n",
      "Perimeter of Rectangle :  20\n"
     ]
    }
   ],
   "source": [
    "l=int(input(\"Length : \"))\n",
    "b=int(input(\"Breadth : \"))\n",
    "area=l*b\n",
    "perimeter=2*(l+b)\n",
    "print(\"Area of Rectangle : \",area)\n",
    "print(\"Perimeter of Rectangle : \",perimeter)"
   ]
  },
  {
   "cell_type": "markdown",
   "metadata": {},
   "source": [
    "#### Question2. Write a program, which accepts annual basic salary of an employee and calculates and displays the Income tax as per the following rules.\n",
    "- If Basic is less than Rs. 1,50,000/-, then Tax = 0.\n",
    "- If Basic is from Rs.1,50,000/- to Rs. 3,00,000/-, then tax is 20%.\n",
    "- If Basic is greater than Rs.3,00,000/-, then tax is 30%.\n",
    "- Print name, annual income and tax.\n",
    "- Write test cases to validate all conditions "
   ]
  },
  {
   "cell_type": "markdown",
   "metadata": {},
   "source": [
    "Here we need to get annual basic salary using input() function and also same for getting employee name then i am giving certain condition in (if and elif) in 1st case i need to check if the annual basic salary of the employee is less than 150000 then the employee don't need to pay tax amount. then in 2nd case i have given that if salary of the employee is less than 300000 then employee needs to pay 20% tax then final case is if the salary is greater than 300000 then the employee needs to pay 30% of tax amount so i have given each condition in specific if and elif block. "
   ]
  },
  {
   "cell_type": "code",
   "execution_count": 3,
   "metadata": {},
   "outputs": [
    {
     "name": "stdout",
     "output_type": "stream",
     "text": [
      "Employee Name: Mahesh\n",
      "Your Annual Basic Salary: 1000000\n",
      "Your Tax Amount:  300000.0\n",
      "Your Annual Income:  700000.0\n"
     ]
    }
   ],
   "source": [
    "e_name=input(\"Employee Name: \")\n",
    "salary=float(input(\"Your Annual Basic Salary: \"))\n",
    "if(salary<150000):\n",
    "    tax=0\n",
    "    netsalary=salary-tax\n",
    "    print(\"No taxable Amount\")\n",
    "    print(\"Your Annual Income: \",netsalary)\n",
    "elif(salary<300000):\n",
    "    tax=0.2*salary\n",
    "    netsalary=salary-tax\n",
    "    print(\"Your Tax Amount: \",tax)\n",
    "    print(\"Your Annual Income: \", netsalary)\n",
    "elif(salary>300000):\n",
    "    tax=0.3*salary\n",
    "    netsalary=salary-tax\n",
    "    print(\"Your Tax Amount: \",tax)\n",
    "    print(\"Your Annual Income: \", netsalary)"
   ]
  },
  {
   "cell_type": "markdown",
   "metadata": {},
   "source": [
    "#### Question3. Write a program to accept quantity and rate for three (3) items. Compute the total sales amount. Also compute and print the discount as follows:\n",
    "- Amount > Rs. 2000/- : 20% discount\n",
    "- Amount between Rs. 1500/- to Rs.1999/- :15% discount\n",
    "- Amount between Rs. 1000/- to Rs.1499/- 8 % discount\n",
    "- Compute final amount to be paid.\n",
    "- Print name, rate and quantity of 3 items. Then print total sales amount, total discount and final amount to be paid to shop.\n",
    "- Write 3 test cases to validate all conditions "
   ]
  },
  {
   "cell_type": "markdown",
   "metadata": {},
   "source": [
    "Here we have certian condition if the total sales amount is greater than Rs.2000/- we have 20% discount then. If the amount between Rs.1500/- to Rs.1999/- we have 15% discount. then if we have amount between Rs.1000/- to Rs.1499/- we have 8% discount so i have given all these condition in (if and elif) statement. In case 1: if amount>2000 we print(20% discount) and i product the amount with 20 then divided by 100, then followed by next condition if case 1 fails then it execute case 2 which the amount is greater than 1500 and amount<1999 then i product the amount with 15 then divided by 100. Then case 3 if the both condition fails it executes the next case where the amount is greater than 1000 and amount<1499 Then i product the amount with 8 then divided by 100. Then finally we print the amount and the discount then the amount need to be paid by the customer."
   ]
  },
  {
   "cell_type": "code",
   "execution_count": 6,
   "metadata": {},
   "outputs": [
    {
     "name": "stdout",
     "output_type": "stream",
     "text": [
      "SKM DEPARTMENT STORE\n",
      "enter the item1: Wheat\n",
      "enter the quantity1: 2\n",
      "enter the rate1: 300\n",
      "enter the item2: Dates\n",
      "enter the quantity2: 3\n",
      "enter the rate2: 400\n",
      "enter the item3: Almonds\n",
      "enter the quantity3: 4\n",
      "enter the rate3: 400\n",
      "DISCOUNT 20%.....||\n",
      "\n",
      "\n",
      "total amount:  3400\n",
      "\n",
      "total discount:  680.0\n",
      "\n",
      "final price to be paid by customer:  2720.0\n"
     ]
    }
   ],
   "source": [
    "print(\"SKM DEPARTMENT STORE\")\n",
    "name_item1=str(input(\"enter the item1: \"))\n",
    "quantity_1=int(input(\"enter the quantity1: \"))\n",
    "rate_1=int(input(\"enter the rate1: \"))\n",
    "\n",
    "name_item2=str(input(\"enter the item2: \"))\n",
    "quantity_2=int(input(\"enter the quantity2: \"))\n",
    "rate_2=int(int(input(\"enter the rate2: \")))\n",
    "\n",
    "name_item3=str(input(\"enter the item3: \"))\n",
    "quantity_3=int(input(\"enter the quantity3: \"))\n",
    "rate_3=int(input(\"enter the rate3: \"))\n",
    "\n",
    "amount=(quantity_1*rate_1)+(quantity_2*rate_2)+(quantity_3*rate_3)\n",
    "price=amount\n",
    "\n",
    "if amount > 2000:\n",
    "    print(\"DISCOUNT 20%.....||\\n\")\n",
    "    discount=(amount*20)/100\n",
    "    price -= discount\n",
    "elif amount > 1500 and amount < 1999:\n",
    "    print(\"DISCOUNT 15%.....||\\n\")\n",
    "    discount=(amount*15)/100\n",
    "    price -= discount\n",
    "elif amount > 1000 and amount < 1499:\n",
    "    print(\"DISCOUNT 8%.....||\\n\")\n",
    "    discount=(amount*8)/100\n",
    "    price -= discount\n",
    "print(\"\\ntotal amount: \",amount)\n",
    "print(\"\\ntotal discount: \",discount)\n",
    "print(\"\\nfinal price to be paid by customer: \",price)"
   ]
  },
  {
   "cell_type": "markdown",
   "metadata": {},
   "source": [
    "#### Question4. Evaluate the expressions using Pen and Paper first and then print the value.\n",
    "- X1=(11+31+23+8+7+5)/((1-(1/2)-(1/20)))\n",
    "- X2=(((10*8)+8-((7//5)%(5**4)))&3)|(2<<1) "
   ]
  },
  {
   "cell_type": "markdown",
   "metadata": {},
   "source": [
    "Like other programing language python follows the same BODMAS rule where priority based operation will execute first then followed by next as per the BODMAS 1st priority is for \"() Parentheses\" 2nd \"** Exponentiation\" 3rd \"* Multiplication\" 4th \"/ Division\" 5th \"+ Addition\" then finally 6th \"- Subtraction\". so in this program it happens the same as the rule as get 188.88 for X1 then 7 for X2."
   ]
  },
  {
   "cell_type": "code",
   "execution_count": 26,
   "metadata": {},
   "outputs": [
    {
     "name": "stdout",
     "output_type": "stream",
     "text": [
      "188.88888888888889\n",
      "7\n"
     ]
    }
   ],
   "source": [
    "x1=(11+31+23+8+7+5)/((1-(1/2)-(1/20)))\n",
    "print(x1)\n",
    "x2=(((10*8)+8-((7//5)%(5**4)))&3)|(2<<1)\n",
    "print(x2)"
   ]
  },
  {
   "cell_type": "markdown",
   "metadata": {},
   "source": [
    "#### Question5. Write a program to accept name, marks for three subjects and find the total marks secured, average and also display the class obtained.\n",
    "- Class I – above 80%\n",
    "- Class II – 60% to 80%\n",
    "- Pass class – 40% to 59% and\n",
    "- Fail otherwise\n",
    "#### Print a message as “Congratulations << your name>>, you secured a total of <<total marks>>,and Your class is <<class>>”\n",
    "#### Test you code with atleast 2 test cases "
   ]
  },
  {
   "cell_type": "markdown",
   "metadata": {},
   "source": [
    "Here we are using the same if and elif statement. First i am getting input from the user and also for 3 subject marks using input()function then i add all the subject marks to a variable called total then for finding average i divide the total no.of subject by the total. then i am creating a variable called percentage that holds total / the maximum marks of all subject then product by 100. In 1st case if(percentage>=80) it print congratulation then my name and the total and type of class.\n",
    "In 2nd case if(percentage>=60 and percentage<=80) it print congratulation then my name and the total and type of class.\n",
    "In 3rd case if(percentage>=40 and percentage<=59) it print congratulation then my name and the total and type of class."
   ]
  },
  {
   "cell_type": "code",
   "execution_count": 2,
   "metadata": {},
   "outputs": [
    {
     "name": "stdout",
     "output_type": "stream",
     "text": [
      "Enter your name: Mahesh\n",
      "Please enter Subject 1: 99\n",
      "Please enter Subject 2: 98\n",
      "Please enter Subject 3: 90\n",
      "\n",
      "Congratulation! Mahesh you secured a total of 287 and your class is: 1st Class\n"
     ]
    }
   ],
   "source": [
    "name = str(input(\"Enter your name: \"))\n",
    "subject_1 = float(input(\"Please enter Subject 1: \"))\n",
    "subject_2 = float(input(\"Please enter Subject 2: \"))\n",
    "subject_3 = float(input(\"Please enter Subject 3: \"))\n",
    "\n",
    "total = int(subject_1+subject_2+subject_3)\n",
    "average = total / 3\n",
    "percentage = (total / 300) * 100\n",
    "\n",
    "if(percentage>=80):\n",
    "    print(\"\\nCongratulation!\", name, \"you secured a total of\", total, \"and your class is: 1st Class\")\n",
    "elif(percentage>=60 and percentage<=80):\n",
    "    print(\"\\nCongratulation!\", name, \"you secured a total of\", total, \"and your class is: 2nd Class\")\n",
    "elif(percentage>=40 and percentage<=59):\n",
    "    print(\"\\nCongratulation!\", name, \"you secured a total of\", total, \"and your class is: Pass Class\")\n",
    "else:\n",
    "    print(\"you are fail\")"
   ]
  },
  {
   "cell_type": "markdown",
   "metadata": {},
   "source": [
    "#### Question6. Read a number from keyboard. Print whether it is odd number, even number, positive number, negative number or zero. Also, print if its ASCII value represents a lower case or upper case letter or digit.\n",
    "#### Write 8 test cases to validate odd, even, positive, negative, zero, lower case, upper case and digit input types "
   ]
  },
  {
   "cell_type": "markdown",
   "metadata": {},
   "source": [
    "I am getting number from the user using input() function and storing that to a variable called 'n'. then i am giving certain condition in if and elif statement if the n>0 the it print number is positive then n%2==0 it print number is even else it print number is odd then same for other elif where it print for negetive then finally both the case fail it print zero. Then we print ASCII values using the same if and elif statement. 1st case if n>=65 and n<=91 then it print uppercase letter elif 2nd case n>=97 and n<=122 then it print lowercase letter elif 3rd case n>=48 and n<=57 then it print digit then finally print the value.\n",
    "next we have 3 case. I get input() from the user and store that value in 'char'. in 1st case if char >= 65 and char <= 90 then it print its an uppercase letters. 2d case elif char >=97 and char <= 122 print its an lowercase letters. else the char >= 48 and char <= 57 print its a digit. Then in this 3 case. I get input() from the user and store that value in 'char'. in 1st case if char >= 65 and char <= 90 then it print its an uppercase letters. 2d case elif char >=97 and char <= 122 print its an lowercase letters. else the char >= 48 and char <= 57 print its a digit."
   ]
  },
  {
   "cell_type": "code",
   "execution_count": 14,
   "metadata": {},
   "outputs": [
    {
     "name": "stdout",
     "output_type": "stream",
     "text": [
      "Enter the number to check ODD or EVEN:  \n",
      "555555\n",
      "number is POSITIVE \n",
      "\n",
      "number is odd   \n",
      "\n",
      "ASCII values   \n",
      "\n",
      "the value 򇨣\n",
      "Enter ASCII values \n",
      "9\n",
      "57\n",
      "Enter a single number or a letter: \n",
      "K\n",
      "IT IS AN UPPERCASE LETTERS\n"
     ]
    }
   ],
   "source": [
    "n=int(input(\"Enter the number to check ODD or EVEN:  \\n\"))\n",
    "if n>0:\n",
    "    print(\"number is POSITIVE \\n\")\n",
    "    if n%2==0:\n",
    "        print(\"number is even  \\n\")\n",
    "    else:\n",
    "        print(\"number is odd   \\n\")     \n",
    "elif n<0:\n",
    "    print(\"number is NEGETIVE   \\n\")\n",
    "    if n%2==0:\n",
    "        print(\"number is even   \\n\")\n",
    "    else:\n",
    "        print(\"number is odd     \\n\")\n",
    "else:\n",
    "    print(\"number is ZERO   \\n\")\n",
    "    \n",
    "    \n",
    "print(\"ASCII values   \\n\")\n",
    "if n>=65 and n<=91:\n",
    "    print(\"represents UPPERCASE LETTER   \\n\")\n",
    "elif n>=97 and n<=122:\n",
    "    print(\"represents LOWERCASE LETTER   \\n\")\n",
    "elif n>=48 and n<=57:\n",
    "    print(\"represents DIGIT   \\n\")\n",
    "    \n",
    "val=chr(n)\n",
    "print(\"the value\" ,val)\n",
    "char=str(input(\"Enter ASCII values \\n\"))\n",
    "print(ord(char))\n",
    "n=100\n",
    "chr(n)\n",
    "\n",
    "char=str(input(\"Enter a single number or a letter \\n\"))\n",
    "if(ord(char)>=65 and ord(char)<=90):\n",
    "    print(\"IT IS AN UPPERCASE LETTERS\")\n",
    "elif(ord(char)>=97 and ord(char)<=122):\n",
    "    print(\"IT IS AN LOWERCASE LETTERS\")\n",
    "else:\n",
    "    (ord(char)>=48 and ord(char)<=57)\n",
    "    print(\"IT IS A DIGIT\")"
   ]
  }
 ],
 "metadata": {
  "kernelspec": {
   "display_name": "Python 3",
   "language": "python",
   "name": "python3"
  },
  "language_info": {
   "codemirror_mode": {
    "name": "ipython",
    "version": 3
   },
   "file_extension": ".py",
   "mimetype": "text/x-python",
   "name": "python",
   "nbconvert_exporter": "python",
   "pygments_lexer": "ipython3",
   "version": "3.8.5"
  }
 },
 "nbformat": 4,
 "nbformat_minor": 4
}
